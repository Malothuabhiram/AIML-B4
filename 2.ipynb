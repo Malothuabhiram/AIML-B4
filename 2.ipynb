{
 "cells": [
  {
   "cell_type": "code",
   "execution_count": 1,
   "metadata": {},
   "outputs": [
    {
     "name": "stdout",
     "output_type": "stream",
     "text": [
      "Principal Amount: $1000\n",
      "Interest Rate: 5.0%\n",
      "Time Period: 2 years\n",
      "Simple Interest: $100.0\n"
     ]
    }
   ],
   "source": [
    "# Simple Interest Calculation\n",
    "principal_amount = 1000  # Principal amount in dollars\n",
    "interest_rate = 0.05   # Annual interest rate (5% in this case)\n",
    "time_period = 2        # Time period in years\n",
    "\n",
    "# Simple Interest Formula: SI = P * R * T\n",
    "simple_interest = principal_amount * interest_rate * time_period\n",
    "\n",
    "print(f\"Principal Amount: ${principal_amount}\")\n",
    "print(f\"Interest Rate: {interest_rate * 100}%\")\n",
    "print(f\"Time Period: {time_period} years\")\n",
    "print(f\"Simple Interest: ${simple_interest}\")\n"
   ]
  }
 ],
 "metadata": {
  "kernelspec": {
   "display_name": "Python 3",
   "language": "python",
   "name": "python3"
  },
  "language_info": {
   "codemirror_mode": {
    "name": "ipython",
    "version": 3
   },
   "file_extension": ".py",
   "mimetype": "text/x-python",
   "name": "python",
   "nbconvert_exporter": "python",
   "pygments_lexer": "ipython3",
   "version": "3.10.13"
  }
 },
 "nbformat": 4,
 "nbformat_minor": 2
}
