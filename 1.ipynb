{
 "cells": [
  {
   "cell_type": "code",
   "execution_count": 2,
   "metadata": {},
   "outputs": [
    {
     "name": "stdout",
     "output_type": "stream",
     "text": [
      "Addition: 8\n",
      "Subtraction: 2\n",
      "Multiplication: 15\n",
      "Division: 1.6666666666666667\n"
     ]
    }
   ],
   "source": [
    "# Arithmetic Operations\n",
    "a = 5\n",
    "b = 3\n",
    "\n",
    "# Addition\n",
    "addition_result = a + b\n",
    "print(\"Addition:\", addition_result)\n",
    "\n",
    "# Subtraction\n",
    "subtraction_result = a - b\n",
    "print(\"Subtraction:\", subtraction_result)\n",
    "\n",
    "# Multiplication\n",
    "multiplication_result = a * b\n",
    "print(\"Multiplication:\", multiplication_result)\n",
    "\n",
    "# Division\n",
    "division_result = a / b\n",
    "print(\"Division:\", division_result)\n",
    "\n"
   ]
  }
 ],
 "metadata": {
  "kernelspec": {
   "display_name": "Python 3",
   "language": "python",
   "name": "python3"
  },
  "language_info": {
   "codemirror_mode": {
    "name": "ipython",
    "version": 3
   },
   "file_extension": ".py",
   "mimetype": "text/x-python",
   "name": "python",
   "nbconvert_exporter": "python",
   "pygments_lexer": "ipython3",
   "version": "3.10.13"
  }
 },
 "nbformat": 4,
 "nbformat_minor": 2
}
